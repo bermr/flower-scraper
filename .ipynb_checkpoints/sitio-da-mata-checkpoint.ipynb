{
 "cells": [
  {
   "cell_type": "code",
   "execution_count": 2,
   "metadata": {},
   "outputs": [],
   "source": [
    "# sitio-da-mata notebook\n",
    "\n",
    "import pandas as pd\n",
    "import numpy as np\n",
    "import seaborn as sn\n",
    "import matplotlib.pyplot as plt\n",
    "import matplotlib.image as mpimg"
   ]
  },
  {
   "cell_type": "code",
   "execution_count": 24,
   "metadata": {},
   "outputs": [
    {
     "name": "stdout",
     "output_type": "stream",
     "text": [
      "[u' ANGICO VERMELHO ', u' Anadenanthera macrocarpa. ', u' Fabaceae-Mimosoideae. ', u' Am\\xe9rica Latina. ', u' Logo que as sementes forem colhidas.   ', u' Colocar as sementes para germina\\xe7\\xe3o em canteiros de semeadura semissombreados contendo substrato. Em seguida cobri-las com uma fina camada do substrato peneirado.A taxa de germina\\xe7\\xe3o geralmente \\xe9 superior a 80% para sementes frescas. Transplantar as mudas para recipientes individuais contendo solo adubado com esterco curtido de curral quando atingirem 4-5 cm de altura.  ', u' 5 a 8 dias . ', u' Para obten\\xe7\\xe3o de sementes, colher os frutos diretamente da \\xe1rvore quando iniciarem a abertura espont\\xe2nea. Em seguida, leva-los ao sol para que se completem sua abertura e a libera\\xe7\\xe3o das sementes. ', u' 38 ', u' 5 ', u' Perene. ', u' Folhas compostas bipinadas, de 10-25 jugas; pinas de 7-11 cm de comprimento, com foli\\xf3los r\\xedgidos. ', u' O Angico Vermelho \\xe9 uma planta dec\\xeddua, pioneira, heli\\xf3fita e seletiva xer\\xf3fita, pode atingir de 13 a 20 m de altura e o tronco pode ter de 40-60 cm de di\\xe2metro. ', u' Amadurecem em Agosto-Setembro. ', u' Fruto legume deiscente, achatado, de superf\\xedcie \\xe1spera e cor marrom, contendo 5-10 sementes orbiculares dotadas de pleurograma. ', u' Setembro-Novembro ', u' Flores amarelo-esbranqui\\xe7adas, reunidas em umbelas globosas e longo-pedunculadas. ', u' Na produ\\xe7\\xe3o das mudas usar substrato organo-arenoso peneirado e esterco curtido de curral em tubetes, no plantio definitivo usar 150 gramas de NPK 4-14-8 ao em torno da cova e distante do tronco da \\xe1rvore e logo em seguida regar. ', u' Diariamente de manh\\xe3 e a tarde. Jato tipo chuveirinho.  ', u' Tropical. ', u' Sim, respeitando o formato arquitet\\xf4nico da \\xe1rvore e utilizando as t\\xe9cnicas e ferramentas corretas de poda. Tamb\\xe9m \\xe9 necess\\xe1rio respeitar o colar e a crista dos galgos para que ocorra a cicatriza\\xe7\\xe3o e n\\xe3o instale fungos. ', u' Sol pleno. ', u' Sim. ', u' O plantio definitivo pode ser feito para local definitivo quando as mudas atingirem em m\\xe9dia 0,5 m. ', u' N\\xe3o. ', u' n\\xe3o ', u' sim ', u' Principalmente formigas, a sauva \\xe9 a mais comum e deve ser combatida antes do plantio definitivo. Outras pragas s\\xe3o o cupim, broca, fungos, bact\\xe9rias, v\\xedrus, protozo\\xe1rios e nemat\\xf3ides ', u' . ']\n"
     ]
    }
   ],
   "source": [
    "data = pd.read_json('flowerscraper/data.json')\n",
    "print(data.get('details'))"
   ]
  },
  {
   "cell_type": "code",
   "execution_count": null,
   "metadata": {},
   "outputs": [],
   "source": [
    "np.concatenate(arr).astype(None)"
   ]
  }
 ],
 "metadata": {
  "kernelspec": {
   "display_name": "Python 3",
   "language": "python",
   "name": "python3"
  },
  "language_info": {
   "codemirror_mode": {
    "name": "ipython",
    "version": 2
   },
   "file_extension": ".py",
   "mimetype": "text/x-python",
   "name": "python",
   "nbconvert_exporter": "python",
   "pygments_lexer": "ipython2",
   "version": "2.7.5"
  }
 },
 "nbformat": 4,
 "nbformat_minor": 2
}
