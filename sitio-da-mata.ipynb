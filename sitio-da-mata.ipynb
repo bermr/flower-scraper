{
 "cells": [
  {
   "cell_type": "code",
   "execution_count": 2,
   "metadata": {},
   "outputs": [],
   "source": [
    "# sitio-da-mata notebook\n",
    "\n",
    "import pandas as pd\n",
    "import numpy as np\n",
    "import seaborn as sn\n",
    "import matplotlib.pyplot as plt\n",
    "import matplotlib.image as mpimg"
   ]
  },
  {
   "cell_type": "code",
   "execution_count": 31,
   "metadata": {},
   "outputs": [
    {
     "name": "stdout",
     "output_type": "stream",
     "text": [
      "0    [ ANGICO VERMELHO ,  Anadenanthera macrocarpa....\n",
      "1    [ Bambu gigante  ,  Bambusa vulgaris  ,  Grami...\n",
      "2    [ Bambu Multiplas folhas ,  Bambusa multiplex ...\n",
      "3    [ PATA DE VACA BRANCA ,  Bauhinea forticata , ...\n",
      "Name: details, dtype: object\n"
     ]
    }
   ],
   "source": [
    "data = pd.read_json('flowerscraper/data.json')\n",
    "print(data.get('details'))"
   ]
  },
  {
   "cell_type": "code",
   "execution_count": 30,
   "metadata": {},
   "outputs": [
    {
     "data": {
      "text/plain": [
       "array([u' ANGICO VERMELHO ', u' Anadenanthera macrocarpa. ',\n",
       "       u' Fabaceae-Mimosoideae. ', u' Am\\xe9rica Latina. ',\n",
       "       u' Logo que as sementes forem colhidas.   ',\n",
       "       u' Colocar as sementes para germina\\xe7\\xe3o em canteiros de semeadura semissombreados contendo substrato. Em seguida cobri-las com uma fina camada do substrato peneirado.A taxa de germina\\xe7\\xe3o geralmente \\xe9 superior a 80% para sementes frescas. Transplantar as mudas para recipientes individuais contendo solo adubado com esterco curtido de curral quando atingirem 4-5 cm de altura.  ',\n",
       "       u' 5 a 8 dias . ',\n",
       "       u' Para obten\\xe7\\xe3o de sementes, colher os frutos diretamente da \\xe1rvore quando iniciarem a abertura espont\\xe2nea. Em seguida, leva-los ao sol para que se completem sua abertura e a libera\\xe7\\xe3o das sementes. ',\n",
       "       u' 38 ', u' 5 ', u' Perene. ',\n",
       "       u' Folhas compostas bipinadas, de 10-25 jugas; pinas de 7-11 cm de comprimento, com foli\\xf3los r\\xedgidos. ',\n",
       "       u' O Angico Vermelho \\xe9 uma planta dec\\xeddua, pioneira, heli\\xf3fita e seletiva xer\\xf3fita, pode atingir de 13 a 20 m de altura e o tronco pode ter de 40-60 cm de di\\xe2metro. ',\n",
       "       u' Amadurecem em Agosto-Setembro. ',\n",
       "       u' Fruto legume deiscente, achatado, de superf\\xedcie \\xe1spera e cor marrom, contendo 5-10 sementes orbiculares dotadas de pleurograma. ',\n",
       "       u' Setembro-Novembro ',\n",
       "       u' Flores amarelo-esbranqui\\xe7adas, reunidas em umbelas globosas e longo-pedunculadas. ',\n",
       "       u' Na produ\\xe7\\xe3o das mudas usar substrato organo-arenoso peneirado e esterco curtido de curral em tubetes, no plantio definitivo usar 150 gramas de NPK 4-14-8 ao em torno da cova e distante do tronco da \\xe1rvore e logo em seguida regar. ',\n",
       "       u' Diariamente de manh\\xe3 e a tarde. Jato tipo chuveirinho.  ',\n",
       "       u' Tropical. ',\n",
       "       u' Sim, respeitando o formato arquitet\\xf4nico da \\xe1rvore e utilizando as t\\xe9cnicas e ferramentas corretas de poda. Tamb\\xe9m \\xe9 necess\\xe1rio respeitar o colar e a crista dos galgos para que ocorra a cicatriza\\xe7\\xe3o e n\\xe3o instale fungos. ',\n",
       "       u' Sol pleno. ', u' Sim. ',\n",
       "       u' O plantio definitivo pode ser feito para local definitivo quando as mudas atingirem em m\\xe9dia 0,5 m. ',\n",
       "       u' N\\xe3o. ', u' n\\xe3o ', u' sim ',\n",
       "       u' Principalmente formigas, a sauva \\xe9 a mais comum e deve ser combatida antes do plantio definitivo. Outras pragas s\\xe3o o cupim, broca, fungos, bact\\xe9rias, v\\xedrus, protozo\\xe1rios e nemat\\xf3ides ',\n",
       "       u' . ', u' Bambu gigante  ', u' Bambusa vulgaris  ',\n",
       "       u' Gramineae e sub-familia Bambusoideae ', u' Asia  ', u' Perene ',\n",
       "       u' Folhas verdes escuras, com formato pontiagudo com aproximadamente 10 cm por 2 cm. ',\n",
       "       u' 1\\xba ano atinge de\\xa02,50 a 4,00 metros, 2\\xba ano de\\xa03,00 a 7,00\\xa0metros, 3\\xba ano de\\xa08,00 a 10 metros e no  4\\xba ano a planta estara adulta. ',\n",
       "       u'  Quando se trata da flora\\xe7\\xe3o, bambus s\\xe3o, provavelmente, uma das plantas mais lentas do mundo. ',\n",
       "       u' Bambu raramente da flores: a cada 60 ou 100 anos. \\xc9 um mist\\xe9rio, pois a mesma especie flori simultaneamente em v\\xe1rios locais no mundo. ',\n",
       "       u' Aconselhamos aplicar adubo org\\xe2nico no primeiro ano (300 gramas a 1 kg), tr\\xeas vezes no per\\xedodo das chuvas, come\\xe7o meio e final das chuvas. No segundo ano - 1 kg at\\xe9 3 kg (tr\\xeas vezes por ano) e no terceiro ano -\\xa0acima de 3kg (tr\\xeas vezes por ano). Caso para voc\\xea seja invi\\xe1vel adubo org\\xe2nico, aconselhamos formula (NPK) -\\xa010;10;10 no 1 ano - 100g, no 2 ano - 200g e 3 ano - 300g. Para formulados (NPK) -\\xa020;5;20, no 1 ano - 80g, no 2 ano - 150g e 3 ano - 250g. Importante: O\\xa0coroamento com adubo NPK deve ser feito no per\\xedodo das chuvas. N\\xe3o deixe que o adubo fique em contato direto com os brotos para evitar queimaduras. ',\n",
       "       u' Quando for feito o plantio das mudas, \\xe9 importante manter a terra \\xfamida mas n\\xe3o encharcada no inicio (primeiro m\\xeas). Recomendamos a rega a cada tr\\xeas dias, se n\\xe3o chover, obviamente. A maioria das esp\\xe9cies de bambu n\\xe3o se adapta bem em terrenos alagados como p\\xe2ntanos onde a agua \\xe9 perene. Se houver enchentes de 3 meses por ano, como em beira de rios, por exemplo, n\\xe3o ha problemas. ',\n",
       "       u' tropical e subtropical  ', u' Tropical ',\n",
       "       u' Sim, mas um pouco dif\\xedcil devido ao seu porte. Caso queria poda-lo, faze-lo encima dos n\\xf3s (divis\\xf3ria dos bambus). ',\n",
       "       u' Sim, meia - sombra ', u' Sim ', u' 40 a 60 cm ',\n",
       "       u' N\\xe3o, diferentemente do eucalipto, bambu n\\xe3o atrai formigas e n\\xe3o \\xe9 necess\\xe1rio aplicar formicidas. ',\n",
       "       u' ',\n",
       "       u'O bambu verde gigante (Bambusa vulgaris) \\xe9 uma planta de grande porte com 1001 utilidades, o uso da sua biomassa para a produ\\xe7\\xe3o de energia \\xe9 uma op\\xe7\\xe3o verde para a redu\\xe7\\xe3o do uso de lenha de matas nativas, como o eucalipto, crescendo muito mais r\\xe1pido, substituindo a madeira em diversos usos al\\xe9m da energia, como mat\\xe9ria prima para a fabrica\\xe7\\xe3o de objetos de decora\\xe7\\xe3o, papel, por exemplo, com a vantagem de ajudar na recupera\\xe7\\xe3o de \\xe1reas degradadas com muito mais efic\\xe1cia. ',\n",
       "       u'Al\\xe9m disso, a muda de bambu verde gigante possui um r\\xe1pido crescimento, atingindo at\\xe9 12 metros de altura na fase adulta.',\n",
       "       u'O bambu verde gigante \\xe9 excelente para ser utilizado como ',\n",
       "       u', para dividir grandes \\xe1reas ou na prote\\xe7\\xe3o contra ventos e chuvas, barreira natural contra ru\\xeddos e um \\xf3timo elemento ',\n",
       "       u'. Suas  a\\xedzes s\\xe3o entouceirantes, ou seja, n\\xe3o alastram, pois \\xe9 simpodial com rizomas curtos, o que torna poss\\xedvel o plantio das mudas de bambu verdes gigantes pr\\xf3ximas, formando uma cerva viva ainda mais densa, caso necess\\xe1rio. ',\n",
       "       u'O bambu verde gigante pode ser cultivado tanto a pleno sol, quanto a meia sombra, em solo f\\xe9rtil, com boa drenagem e rico em mat\\xe9ria org\\xe2nica. As regas devem ser feitas a cada 3 dias em m\\xe9dia, caso n\\xe3o haja chuvas, por\\xe9m, durante o primeiro m\\xeas o solo deve ser mantido sempre \\xfamido. ',\n",
       "       u'N\\xf3s do ',\n",
       "       u' entregamos as mudas de bambu verde gigante com 60 cm a 1 metro de altura.',\n",
       "       u'O plantio das mudas \\xe9 simples, contudo, deve ser feito em solo previamente preparado para o crescimento saud\\xe1vel (veja a sess\\xe3o de instru\\xe7\\xe3o de plantio). Seu  ciclo de vida \\xe9 perene e todos os anos nascem novos colmos, tornando a colheita poss\\xedvel a cada fim de ciclo anual. ',\n",
       "       u' Bambu Multiplas folhas ', u' Bambusa multiplex ',\n",
       "       u'  Bambusoideae ', u' Asia ', u' Perene ',\n",
       "       u' Folhas finas e pontiagudas verde claro. Esp\\xe9cie bem \\u201ccheia de folhas\\u201d por isso seu nome. ',\n",
       "       u'     Tempo (anos) - Altura (metros)\\r\\n    1\\xba ano: 2,00 a 2,50 \\r\\n    2\\xba ano: 3,00 a 4,00\\r\\n    3\\xba ano: Adulto\\r\\n ',\n",
       "       u' Aconselhamos aplicar adubo org\\xe2nico no primeiro ano (300 gramas a 1 kg), tr\\xeas vezes no per\\xedodo das chuvas, come\\xe7o meio e final das chuvas. No segundo ano - 1 kg at\\xe9 3 kg (tr\\xeas vezes por ano) e no terceiro ano -\\xa0acima de 3kg (tr\\xeas vezes por ano). Caso para voc\\xea seja invi\\xe1vel adubo org\\xe2nico, aconselhamos formula (NPK) -\\xa010;10;10 no 1 ano - 100g, no 2 ano - 200g e 3 ano - 300g. Para formulados (NPK) -\\xa020;5;20, no 1 ano - 80g, no 2 ano - 150g e 3 ano - 250g. Importante: O\\xa0coroamento com adubo NPK deve ser feito no per\\xedodo das chuvas. N\\xe3o deixe que o adubo fique em contato direto com os brotos para evitar queimaduras. ',\n",
       "       u' Quando for feito o plantio das mudas, \\xe9 importante manter a terra \\xfamida mas n\\xe3o encharcada no inicio (primeiro m\\xeas). Recomendamos a rega a cada tr\\xeas dias, se n\\xe3o chover, obviamente. A maioria das esp\\xe9cies de bambu n\\xe3o se adapta bem em terrenos alagados como p\\xe2ntanos onde a agua \\xe9 perene. Se houver enchentes de 3 meses por ano, como em beira de rios, por exemplo, n\\xe3o ha problemas. ',\n",
       "       u'  adapta-se a climas tropicais e sub tropicais ',\n",
       "       u' Grande parte dos bambus \\xe9 muito tolerante \\xe0 poda, portanto n\\xe3o hesite em apar\\xe1-lo\\xa0... ',\n",
       "       u' Sim, meia - sombra ', u' Sim  ',\n",
       "       u' altura: 60 cm, em media, para SEDEX e mudas com at\\xe9 com 2 metros para envio por caminh\\xe3o com uma ou duas hastes; ',\n",
       "       u' N\\xe3o, diferentemente do eucalipto, bambu n\\xe3o atrai formigas e n\\xe3o \\xe9 necess\\xe1rio aplicar formicidas. ',\n",
       "       u' PATA DE VACA BRANCA ', u' Bauhinea forticata ', u' Fabaceae ',\n",
       "       u' \\xc1sia, China, \\xcdndia, Vietn\\xe3 ', u' Ano todo ',\n",
       "       u' Recomenda-se semear duas sementes em saco de polietileno com dimens\\xf5es m\\xednimas de 11 cm de altura e 4,5 cm de di\\xe2metro, ou em tubetes de polipropileno de tamanho m\\xe9dio. A repicagem, se necess\\xe1ria, pode ser efetuada 2 a 4 semanas ap\\xf3s o in\\xedcio da germina\\xe7\\xe3o. As pl\\xe2ntulas apresentam vigoroso sistema radicial. ',\n",
       "       u' 5 a 35 dias ', u' 5 meses ', u' 75 ', u' 5 ', u' Perene ',\n",
       "       u' Folhas m\\xe9dias, no formato de uma pata de vaca, da\\xed o seu nome popular. ',\n",
       "       u' Por seu porte pequeno, r\\xe1pido crescimento e beleza, a pata-de-vaca \\xe9 uma esp\\xe9cie de elei\\xe7\\xe3o para o paisagismo urbano. Seu porte: 6.0 a 12 metros ',\n",
       "       u' Julho, Agosto ',\n",
       "       u' Seus frutos s\\xe3o em formato de vagem, com 15 a 30 cm de comprimento, que ao secarem liberam sementes que possuem r\\xe1pida germina\\xe7\\xe3o. ',\n",
       "       u' Janeiro, Outubro, Novembro, Dezembro ',\n",
       "       u' Durante a flora\\xe7\\xe3o, normalmente a \\xe1rvore fica caduca (sem folhas) ou com poucas e j\\xe1 com muitas vagens ainda verdes. As flores s\\xe3o grandes, p\\xeantameras, com longos estames e de cor rosa a lil\\xe1s na esp\\xe9cie t\\xedpica, com uma p\\xe9tala superior modificada, que apresenta cerca de dois tons mais intensos de rosa, o que d\\xe1 a flor o aspecto de orqu\\xeddea. As flores s\\xe3o ainda muito atrativas para insetos polinizadores e aves silvestres. ',\n",
       "       u' \\u279c No plantio recomenda-se usar 15 litros de esterco de curral ou de composto org\\xe2nico; ou 5 litros de esterco de galinha j\\xe1 curtido, mais 150 gramas de superfosfato misturados na terra retirada dos primeiros 20 cent\\xedmetros da cova. Essa mistura dever\\xe1 ir para o fundo da cova. \\u279c Para manuten\\xe7\\xe3o aplicar durante o outono NPK 4-14-8, na proje\\xe7\\xe3o da copa, incorpore ao solo e regue em seguida. ',\n",
       "       u' Diariamente de manh\\xe3 e a tarde. Jato tipo chuveirinho.  ',\n",
       "       u' Tropical, Subtropical ',\n",
       "       u' Podas de limpeza no fim do inverno tamb\\xe9m auxiliam na preven\\xe7\\xe3o de pragas e doen\\xe7as. E podas de forma\\xe7\\xe3o, fazendo a retirada de brotos laterais e galhos mal formados e secos. ',\n",
       "       u' Sol pleno ', u' sim ', u' 12 metros ', u' sim ', u' sim ',\n",
       "       u' sim ',\n",
       "       u' \\xa0\\xc9 suscet\\xedvel ao ataque de cochonilhas e se n\\xe3o tratada, rapidamente evolui para a contamina\\xe7\\xe3o por fumagina. Controle as pragas podando os ramos afetados assim que notar que o ramo foi acometido. ',\n",
       "       u' . '], dtype=object)"
      ]
     },
     "execution_count": 30,
     "metadata": {},
     "output_type": "execute_result"
    }
   ],
   "source": []
  }
 ],
 "metadata": {
  "kernelspec": {
   "display_name": "Python 3",
   "language": "python",
   "name": "python3"
  },
  "language_info": {
   "codemirror_mode": {
    "name": "ipython",
    "version": 2
   },
   "file_extension": ".py",
   "mimetype": "text/x-python",
   "name": "python",
   "nbconvert_exporter": "python",
   "pygments_lexer": "ipython2",
   "version": "2.7.5"
  }
 },
 "nbformat": 4,
 "nbformat_minor": 2
}
